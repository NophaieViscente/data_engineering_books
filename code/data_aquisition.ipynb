{
 "cells": [
  {
   "cell_type": "markdown",
   "metadata": {},
   "source": [
    "#### Import Libs"
   ]
  },
  {
   "cell_type": "code",
   "execution_count": 57,
   "metadata": {},
   "outputs": [],
   "source": [
    "import requests\n",
    "from bs4 import BeautifulSoup as bs\n",
    "import pandas as pd\n",
    "import re\n",
    "\n",
    "# Constants\n",
    "from decouple import config\n",
    "PROCESSED_DATA_PATH     = config('PROCESSED_DATA_PATH')\n",
    "RAW_PROCESSED_DATA_PATH = config('RAW_PROCESSED_DATA_PATH')\n",
    "URL_TO_AQUISITION_DATA  = config('URL_TO_AQUISITION_DATA')\n",
    "\n",
    "# Options to display\n",
    "pd.set_option('display.max_rows',None)"
   ]
  },
  {
   "cell_type": "markdown",
   "metadata": {},
   "source": [
    "#### Methods"
   ]
  },
  {
   "cell_type": "code",
   "execution_count": 2,
   "metadata": {},
   "outputs": [],
   "source": [
    "def get_hrefs(URL_TO_AQUISITION_DATA:str)->list :\n",
    "\n",
    "    '''\n",
    "        This method make a list with hrefs of category of books.\n",
    "\n",
    "        Parameters : \n",
    "            URL_TO_AQUISITION_DATA : A string with URL to get data\n",
    "\n",
    "        Example : \n",
    "            get_hrefs(URL_TO_AQUISITION_DATA)\n",
    "        Returns : \n",
    "            ['catalogue/category/books_1/index.html',\n",
    "            'catalogue/category/books/travel_2/index.html',\n",
    "            'catalogue/category/books/mystery_3/index.html' ...]\n",
    "    '''\n",
    "\n",
    "    list_hrefs = list()\n",
    "    response = requests.get(URL_TO_AQUISITION_DATA)\n",
    "    if response.raise_for_status() :\n",
    "        print('código_quebrado')\n",
    "    soup = bs(response.content)\n",
    "    data_ = soup.find('ul', class_='nav nav-list')\n",
    "    # looping to take hrefs\n",
    "    for line in data_.find_all('li') :\n",
    "        dict_ = line.find('a', href=True)\n",
    "        list_hrefs.append(dict_['href'])\n",
    "    \n",
    "    # Ignore first position 'cause a home page\n",
    "    return list_hrefs[1:]\n",
    "\n",
    "    "
   ]
  },
  {
   "cell_type": "code",
   "execution_count": 3,
   "metadata": {},
   "outputs": [],
   "source": [
    "def get_features_books(URL_TO_AQUISITION_DATA:str, hrefs=list)->list :\n",
    "    for genre in hrefs :\n",
    "        response = requests.get(URL_TO_AQUISITION_DATA)\n",
    "        if response.raise_for_status() :\n",
    "            print('código_quebrado')\n",
    "        "
   ]
  },
  {
   "cell_type": "code",
   "execution_count": 4,
   "metadata": {},
   "outputs": [],
   "source": [
    "def get_books_genre (soup) : \n",
    "    \n",
    "    genre = soup.find('title').text.split(\"|\")[0].strip()\n",
    "\n",
    "    return genre"
   ]
  },
  {
   "cell_type": "code",
   "execution_count": 8,
   "metadata": {},
   "outputs": [],
   "source": [
    "def get_more_pages (soup) :\n",
    "    list_pages = list()\n",
    "    pages = soup.findChild(class_='next')\n",
    "    if type(pages) != None :\n",
    "        pages.find('a',href=True)['href']"
   ]
  },
  {
   "cell_type": "code",
   "execution_count": 31,
   "metadata": {},
   "outputs": [],
   "source": [
    "def get_book_genre_and_names(soup) :\n",
    "    list_names = list()\n",
    "    list_genre = list()\n",
    "    genre = get_books_genre(soup)\n",
    "    for name in soup.find_all('img',alt=True) :\n",
    "        list_names.append(name['alt'])\n",
    "        list_genre.append(genre)\n",
    "    return list_genre,list_names"
   ]
  },
  {
   "cell_type": "code",
   "execution_count": 10,
   "metadata": {},
   "outputs": [],
   "source": [
    "def get_book_prices(soup) :\n",
    "    list_prices = list()\n",
    "    for price in soup.find_all(class_='price_color') :\n",
    "        list_prices.append(float(price.text[1:]))\n",
    "    return list_prices"
   ]
  },
  {
   "cell_type": "code",
   "execution_count": 11,
   "metadata": {},
   "outputs": [],
   "source": [
    "def get_book_ratings(soup) :\n",
    "    list_rating = list()\n",
    "    for rating in soup.find_all('p') :\n",
    "        rating = str(rating)\n",
    "        if re.search('star-rating',rating) : \n",
    "            span = re.search('star-rating',rating)\n",
    "            end_word = span.span()[1]\n",
    "            rating = rating[end_word:rating.index('>')].replace('\"','').strip()\n",
    "            list_rating.append(rating)\n",
    "        \n",
    "    return list_rating\n",
    "            \n"
   ]
  },
  {
   "cell_type": "code",
   "execution_count": 12,
   "metadata": {},
   "outputs": [],
   "source": [
    "def get_book_in_stock(soup) : \n",
    "    list_status = list()\n",
    "    for status_ in soup.find_all(class_='instock availability') :\n",
    "        list_status.append((status_.text.strip()))\n",
    "\n",
    "    return list_status"
   ]
  },
  {
   "cell_type": "code",
   "execution_count": 51,
   "metadata": {},
   "outputs": [],
   "source": [
    "def get_features_books(URL_TO_AQUISITION_DATA:str,list_hrefs:list) :\n",
    "    list_genres = list()\n",
    "    list_names = list()\n",
    "    list_prices = list()\n",
    "    list_ratings = list()\n",
    "    list_status = list()\n",
    "    for href in list_hrefs :\n",
    "        additional_pages = list()\n",
    "        response = requests.get(URL_TO_AQUISITION_DATA+href)\n",
    "        soup = bs(response.content)\n",
    "        # Get genres and names of books\n",
    "        genres,names = get_book_genre_and_names(soup)\n",
    "        # Get prices of books\n",
    "        prices = get_book_prices(soup)\n",
    "        # Get rating of books\n",
    "        ratings = get_book_ratings(soup)\n",
    "        # Get status of stock book\n",
    "        status = get_book_in_stock(soup)\n",
    "\n",
    "        # Add data to lists\n",
    "        list_genres.extend(genres)\n",
    "        list_names.extend(names)\n",
    "        list_prices.extend(prices)\n",
    "        list_ratings.extend(ratings)\n",
    "        list_status.extend(status)\n",
    "        \n",
    "        # Verifying if exists more pages from genre\n",
    "        if soup.find(class_='current') :\n",
    "            qtd_pages = int(soup.find(class_='current').text.strip()[-1])\n",
    "\n",
    "            for page in range(2,qtd_pages+1) :\n",
    "                str_ = f\"page-{page}.html\"\n",
    "                href_ = href.replace('index.html',str_)\n",
    "                response = requests.get(URL_TO_AQUISITION_DATA+href_)\n",
    "                soup = bs(response.content)\n",
    "                # Get names of books\n",
    "                genres, names = get_book_genre_and_names(soup)\n",
    "                # Get prices of books\n",
    "                prices = get_book_prices(soup)\n",
    "                # Get rating of books\n",
    "                ratings = get_book_ratings(soup)\n",
    "                # Get status of stock book\n",
    "                status = get_book_in_stock(soup)\n",
    "\n",
    "                # Add data to lists\n",
    "                list_genres.extend(genres)\n",
    "                list_names.extend(names)\n",
    "                list_prices.extend(prices)\n",
    "                list_ratings.extend(ratings)\n",
    "                list_status.extend(status)\n",
    "        else :\n",
    "            continue\n",
    "\n",
    "\n",
    "    # Transform in a dataframe\n",
    "    data_ = pd.concat([pd.Series(list_genres), pd.Series(list_names), \n",
    "    pd.Series(list_prices), pd.Series(list_ratings),\n",
    "    pd.Series(list_status)],axis=1).rename(\n",
    "        columns={\n",
    "            0:'genre',1:'names',2:'prices',\n",
    "            3:'ratings',4:'stock_status'})\n",
    "\n",
    "    return data_\n",
    "    "
   ]
  }
 ],
 "metadata": {
  "kernelspec": {
   "display_name": "Python 3.10.4 ('study')",
   "language": "python",
   "name": "python3"
  },
  "language_info": {
   "codemirror_mode": {
    "name": "ipython",
    "version": 3
   },
   "file_extension": ".py",
   "mimetype": "text/x-python",
   "name": "python",
   "nbconvert_exporter": "python",
   "pygments_lexer": "ipython3",
   "version": "3.10.4"
  },
  "orig_nbformat": 4,
  "vscode": {
   "interpreter": {
    "hash": "1b9251e2362d10317da5c121b652dc9d75684a5f0e3d5ea62513a1d2b29f72a3"
   }
  }
 },
 "nbformat": 4,
 "nbformat_minor": 2
}
